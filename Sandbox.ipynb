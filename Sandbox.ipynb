{
 "cells": [
  {
   "cell_type": "code",
   "execution_count": 1,
   "metadata": {},
   "outputs": [],
   "source": [
    "import torch\n",
    "from torch.utils.data import DataLoader\n",
    "import numpy as np\n",
    "import cv2 as cv\n",
    "from ProgressNerf.Registries.DataloaderRegistry import get_dataloader\n",
    "from ProgressNerf.Registries.RaypickerRegistry import get_raypicker\n",
    "from ProgressNerf.Registries.RaysamplerRegistry import get_raysampler\n",
    "from ProgressNerf.Registries.EncoderRegistry import get_encoder\n",
    "from ProgressNerf.Registries.ModelRegistry import get_model\n",
    "import ProgressNerf.Dataloading.ToolsPartsDataloader\n",
    "import ProgressNerf.Raycasting.RandomRaypicker\n",
    "import ProgressNerf.Raycasting.NearFarRaysampler\n",
    "import ProgressNerf.Encoders.PositionalEncoder\n",
    "import ProgressNerf.Raycasting.WeightedRaypicker\n",
    "import ProgressNerf.Raycasting.PerturbedRaysampler\n",
    "import ProgressNerf.Models.OGNerf\n",
    "from ProgressNerf.Utils.CameraUtils import BuildCameraMatrix\n",
    "import yaml"
   ]
  },
  {
   "cell_type": "code",
   "execution_count": 2,
   "metadata": {},
   "outputs": [],
   "source": [
    "configFile = \"./configs/tests/sandboxTestConfig.yml\"\n",
    "with open(configFile,'r') as f:\n",
    "    config = yaml.load(f, yaml.FullLoader)\n",
    "\n",
    "render_width = config['render_resoluion'][0]\n",
    "render_height = config['render_resoluion'][1]"
   ]
  },
  {
   "cell_type": "code",
   "execution_count": 3,
   "metadata": {},
   "outputs": [],
   "source": [
    "raypicker = get_raypicker(config['raypicker'])(config[config['raypicker']])\n",
    "cam_matrix = BuildCameraMatrix(config['camera_fx'],config['camera_fy'],config['camera_tx'],config['camera_ty'])\n",
    "raypicker.setCameraParameters(cam_matrix, config['render_resoluion'][0], config['render_resoluion'][1])\n",
    "raysampler = get_raysampler(config['raysampler'])(config[config['raysampler']])"
   ]
  },
  {
   "cell_type": "code",
   "execution_count": 4,
   "metadata": {},
   "outputs": [],
   "source": [
    "train_loader_config = config['train_dataloader']\n",
    "train_loader = get_dataloader(train_loader_config['dataloader'])(train_loader_config[train_loader_config['dataloader']])\n",
    "batch_size = config['batch_size']\n",
    "device = config['device']\n",
    "lr = config['optim_lr']\n",
    "dataloader = DataLoader(train_loader, batch_size=batch_size, shuffle=True, num_workers=config['num_workers'])"
   ]
  },
  {
   "cell_type": "code",
   "execution_count": 5,
   "metadata": {},
   "outputs": [],
   "source": [
    "coarse_config = config['coarse_model']\n",
    "fine_config = config['fine_model']\n",
    "nn = get_model(coarse_config['nnModel'])(coarse_config[coarse_config['nnModel']])\n",
    "nn_fine = get_model(fine_config['nnModel'])(fine_config[fine_config['nnModel']])"
   ]
  },
  {
   "cell_type": "code",
   "execution_count": 6,
   "metadata": {},
   "outputs": [],
   "source": [
    "learning_params = list(nn.parameters())\n",
    "if(nn_fine is not None):\n",
    "    nn_fine.train()\n",
    "    nn_fine.to(device)\n",
    "    learning_params = learning_params + list(nn_fine.parameters())\n",
    "optimizer = torch.optim.Adam(learning_params, lr=lr)\n",
    "loss_rgb = torch.nn.MSELoss()\n"
   ]
  },
  {
   "cell_type": "code",
   "execution_count": null,
   "metadata": {},
   "outputs": [],
   "source": []
  }
 ],
 "metadata": {
  "interpreter": {
   "hash": "6ea9d2e08e1e4fef68a566ca2fed1a35afcedc142c8e4147200c67438de16cad"
  },
  "kernelspec": {
   "display_name": "Python 3.8.12 64-bit ('ProgressNerf': conda)",
   "name": "python3"
  },
  "language_info": {
   "codemirror_mode": {
    "name": "ipython",
    "version": 3
   },
   "file_extension": ".py",
   "mimetype": "text/x-python",
   "name": "python",
   "nbconvert_exporter": "python",
   "pygments_lexer": "ipython3",
   "version": "3.8.12"
  }
 },
 "nbformat": 4,
 "nbformat_minor": 2
}
