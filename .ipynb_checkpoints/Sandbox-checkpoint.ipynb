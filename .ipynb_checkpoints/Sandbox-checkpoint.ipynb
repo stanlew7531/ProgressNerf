{
 "cells": [
  {
   "cell_type": "code",
   "execution_count": 2,
   "metadata": {},
   "outputs": [],
   "source": [
    "import torch\n",
    "from torch.utils.data import DataLoader\n",
    "import numpy as np\n",
    "import cv2 as cv\n",
    "import ProgressNerf.Registries.DataloaderRegistry\n",
    "from ProgressNerf.Registries.DataloaderRegistry import get_dataloader\n",
    "from ProgressNerf.Registries.RaypickerRegistry import get_raypicker\n",
    "import ProgressNerf.Dataloading.ToolsPartsDataloader\n",
    "import ProgressNerf.Raycasting.RandomRaypicker\n",
    "import yaml"
   ]
  },
  {
   "cell_type": "code",
   "execution_count": 3,
   "metadata": {},
   "outputs": [],
   "source": [
    "configFile = \"./configs/testConfig.yml\"\n",
    "with open(configFile,'r') as f:\n",
    "    config = yaml.load(f, yaml.FullLoader)"
   ]
  },
  {
   "cell_type": "code",
   "execution_count": 4,
   "metadata": {},
   "outputs": [
    {
     "data": {
      "text/plain": [
       "{'baseDataDir': '/home/stanlew/data/PNERF-tool-parts/tool_parts/',\n",
       " 'scenes': ['00'],\n",
       " 'datasetType': 'train'}"
      ]
     },
     "execution_count": 4,
     "metadata": {},
     "output_type": "execute_result"
    }
   ],
   "source": [
    "config[config['dataloader']]"
   ]
  },
  {
   "cell_type": "code",
   "execution_count": 5,
   "metadata": {},
   "outputs": [
    {
     "data": {
      "text/plain": [
       "{}"
      ]
     },
     "execution_count": 5,
     "metadata": {},
     "output_type": "execute_result"
    }
   ],
   "source": [
    "config[config['raypicker']]"
   ]
  },
  {
   "cell_type": "code",
   "execution_count": 6,
   "metadata": {},
   "outputs": [],
   "source": [
    "loader = get_dataloader(config['dataloader'])(config[config['dataloader']])\n",
    "dataloader = DataLoader(loader, batch_size=4,\n",
    "                        shuffle=True, num_workers=0)"
   ]
  },
  {
   "cell_type": "code",
   "execution_count": 7,
   "metadata": {},
   "outputs": [
    {
     "data": {
      "text/plain": [
       "183"
      ]
     },
     "execution_count": 7,
     "metadata": {},
     "output_type": "execute_result"
    }
   ],
   "source": [
    "loader.__len__()"
   ]
  },
  {
   "cell_type": "code",
   "execution_count": 8,
   "metadata": {},
   "outputs": [],
   "source": [
    "raypicker = get_raypicker(config['raypicker'])()"
   ]
  },
  {
   "cell_type": "code",
   "execution_count": 10,
   "metadata": {},
   "outputs": [
    {
     "data": {
      "text/plain": [
       "False"
      ]
     },
     "execution_count": 10,
     "metadata": {},
     "output_type": "execute_result"
    }
   ],
   "source": [
    "raypicker.camera_initialized"
   ]
  },
  {
   "cell_type": "code",
   "execution_count": 8,
   "metadata": {},
   "outputs": [
    {
     "name": "stdout",
     "output_type": "stream",
     "text": [
      "0\n",
      "dict_keys(['image', 'depth', 'segmentation', 'clamp_bar_pose', 'clamp_bar_label', 'clamp_bottom_clamp_pose', 'clamp_bottom_clamp_label', 'clamp_handle_pose', 'clamp_handle_label', 'clamp_top_clamp_pose', 'clamp_top_clamp_label', 'flashlight_base_pose', 'flashlight_base_label', 'flashlight_light_pose', 'flashlight_light_label', 'flashlight_stand_pose', 'flashlight_stand_label', 'grey_pliers_left_handle_pose', 'grey_pliers_left_handle_label', 'grey_pliers_left_pinch_pose', 'grey_pliers_left_pinch_label', 'grey_pliers_right_handle_pose', 'grey_pliers_right_handle_label', 'grey_pliers_right_pinch_pose', 'grey_pliers_right_pinch_label', 'hammer_handle_pose', 'hammer_handle_label', 'hammer_head_pose', 'hammer_head_label', 'knife_blade_pose', 'knife_blade_label', 'knife_handle_pose', 'knife_handle_label', 'longnose_pliers_left_handle_pose', 'longnose_pliers_left_handle_label', 'longnose_pliers_left_pinch_pose', 'longnose_pliers_left_pinch_label', 'longnose_pliers_right_handle_pose', 'longnose_pliers_right_handle_label', 'longnose_pliers_right_pinch_pose', 'longnose_pliers_right_pinch_label', 'red_pliers_left_handle_pose', 'red_pliers_left_handle_label', 'red_pliers_left_pinch_pose', 'red_pliers_left_pinch_label', 'red_pliers_right_handle_pose', 'red_pliers_right_handle_label', 'red_pliers_right_pinch_pose', 'red_pliers_right_pinch_label', 'screwdriver_handle_pose', 'screwdriver_handle_label', 'screwdriver_tip_pose', 'screwdriver_tip_label'])\n",
      "tensor([[[ 2.4521e-01,  9.6809e-01, -5.1645e-02,  6.9068e-05],\n",
      "         [ 6.6786e-01, -2.0730e-01, -7.1483e-01, -3.3284e-01],\n",
      "         [-7.0273e-01,  1.4079e-01, -6.9739e-01,  1.1074e+00],\n",
      "         [ 0.0000e+00,  0.0000e+00,  0.0000e+00,  1.0000e+00]],\n",
      "\n",
      "        [[ 6.7904e-01,  7.3231e-01, -5.1321e-02, -1.1235e-01],\n",
      "         [ 5.0269e-01, -5.1479e-01, -6.9447e-01, -3.0341e-01],\n",
      "         [-5.3498e-01,  4.4577e-01, -7.1769e-01,  1.0808e+00],\n",
      "         [ 0.0000e+00,  0.0000e+00,  0.0000e+00,  1.0000e+00]],\n",
      "\n",
      "        [[ 6.0108e-01,  7.9737e-01, -5.3966e-02, -9.0159e-02],\n",
      "         [ 5.4908e-01, -4.6109e-01, -6.9707e-01, -3.1318e-01],\n",
      "         [-5.8070e-01,  3.8936e-01, -7.1497e-01,  1.0890e+00],\n",
      "         [ 0.0000e+00,  0.0000e+00,  0.0000e+00,  1.0000e+00]],\n",
      "\n",
      "        [[ 8.6027e-01,  5.0812e-01, -4.1848e-02, -1.7085e-01],\n",
      "         [ 3.4573e-01, -6.4173e-01, -6.8458e-01, -2.6789e-01],\n",
      "         [-3.7470e-01,  5.7446e-01, -7.2773e-01,  1.0470e+00],\n",
      "         [ 0.0000e+00,  0.0000e+00,  0.0000e+00,  1.0000e+00]]],\n",
      "       dtype=torch.float64)\n",
      "tensor([1, 1, 1, 1])\n"
     ]
    }
   ],
   "source": [
    "for i_batch, sample_batched in enumerate(dataloader):\n",
    "    print(i_batch)\n",
    "    print(sample_batched.keys())\n",
    "    print(sample_batched['clamp_bar_pose'])\n",
    "    print(sample_batched['clamp_bar_label'])\n",
    "    break"
   ]
  }
 ],
 "metadata": {
  "interpreter": {
   "hash": "6ea9d2e08e1e4fef68a566ca2fed1a35afcedc142c8e4147200c67438de16cad"
  },
  "kernelspec": {
   "display_name": "Python 3.8.12 64-bit ('ProgressNerf': conda)",
   "language": "python",
   "name": "python3812jvsc74a57bd06ea9d2e08e1e4fef68a566ca2fed1a35afcedc142c8e4147200c67438de16cad"
  },
  "language_info": {
   "codemirror_mode": {
    "name": "ipython",
    "version": 3
   },
   "file_extension": ".py",
   "mimetype": "text/x-python",
   "name": "python",
   "nbconvert_exporter": "python",
   "pygments_lexer": "ipython3",
   "version": "3.8.12"
  }
 },
 "nbformat": 4,
 "nbformat_minor": 2
}
